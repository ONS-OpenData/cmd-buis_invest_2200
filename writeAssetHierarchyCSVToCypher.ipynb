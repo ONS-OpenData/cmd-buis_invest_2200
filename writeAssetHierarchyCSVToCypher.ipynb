{
 "cells": [
  {
   "cell_type": "code",
   "execution_count": 3,
   "metadata": {},
   "outputs": [],
   "source": [
    "\n",
    "import pandas as pd\n",
    "import csv\n",
    "\n",
    "finalDf = pd.read_csv(\"hierarchy_bi2200_assets.csv\", quoting=csv.QUOTE_ALL)\n",
    "\n",
    "# Write hierarchy to .cypher\n",
    "with open(\"hierarchy.cypher\", \"w\") as f:\n",
    "    \n",
    "    f.write(\"CREATE CONSTRAINT ON (n:`_generic_hierarchy_node_business-investment-instrument-asset`) ASSERT n.code IS UNIQUE;\")\n",
    "    f.write(\"\\n\")\n",
    "\n",
    "    # Write the rows\n",
    "    \n",
    "    # Track whats being created - DONT create the same node twice\n",
    "    alreadyDone = {}\n",
    "    for i, row in finalDf.iterrows():\n",
    "        \n",
    "            # SKip first row, we've done that explicitly above\n",
    "            if row[\"ParentCode\"] != \"\":\n",
    "                \n",
    "                # If we've created a node with this code. Error if its not representing the same label. Otherwise skip. \n",
    "                if row[\"Code\"] in alreadyDone.keys():\n",
    "                    if row[\"Label\"] != alreadyDone[row[\"Code\"]]:\n",
    "                        raise ValueError(\"The code {c} has labels of both: '{a}' and '{b}'.\".format(a=row[\"Code\"],b=row[\"Label\"],c=alreadyDone[row[\"Code\"]]))\n",
    "                else:\n",
    "                    # New node. Create it then add to alreadyDone dictionary.\n",
    "                    f.write(\"CREATE (node:`_generic_hierarchy_node_business-investment-instrument-asset` { code:'%s',label:'%s' });\" % (row[\"Code\"], row[\"Label\"]))\n",
    "                    f.write(\"\\n\")\n",
    "                    alreadyDone.update({row[\"Code\"]:row[\"Label\"]})     \n",
    " \n",
    "    # Write the relationships\n",
    "    for i, row in finalDf.iterrows():\n",
    "        \n",
    "            if row[\"ParentCode\"] != \"\":\n",
    "                \n",
    "                f.write(\"MATCH (parent:`_generic_hierarchy_node_business-investment-instrument-asset`), (child:`_generic_hierarchy_node_business-investment-instrument-asset`) where parent.code = \\\"%s\\\" and child.code = \\\"%s\\\" CREATE (child)-[:hasParent]->(parent);\" %  (row[\"ParentCode\"], row[\"Code\"]))\n",
    "                f.write(\"\\n\")\n",
    "                "
   ]
  }
 ],
 "metadata": {
  "kernelspec": {
   "display_name": "Python 3",
   "language": "python",
   "name": "python3"
  },
  "language_info": {
   "codemirror_mode": {
    "name": "ipython",
    "version": 3
   },
   "file_extension": ".py",
   "mimetype": "text/x-python",
   "name": "python",
   "nbconvert_exporter": "python",
   "pygments_lexer": "ipython3",
   "version": "3.6.1"
  }
 },
 "nbformat": 4,
 "nbformat_minor": 2
}
