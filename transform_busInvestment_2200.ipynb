{
 "cells": [
  {
   "cell_type": "code",
   "execution_count": 2,
   "metadata": {},
   "outputs": [
    {
     "name": "stdout",
     "output_type": "stream",
     "text": [
      "https://registry.sdmx.org/FusionRegistry/ws/rest/schema/datastructure/ESTAT/NA_MAIN/1.1/?version=2.0 \n",
      "\n",
      "\n",
      "{'freq': 'SDMX.CL_FREQ.1_0', 'adjustment': 'ESTAT.CL_ADJUSTMENT.1_1', 'ref_area': 'IMF.CL_AREA.1_1', 'counterpart_area': 'IMF.CL_AREA.1_1', 'ref_sector': 'ESTAT.CL_SECTOR.1_1', 'counterpart_sector': 'ESTAT.CL_SECTOR.1_1', 'accounting_entry': 'IMF.CL_ACCOUNT_ENTRY.1_0', 'sto': 'ESTAT.CL_NA_STO.1_1', 'instr_asset': 'ESTAT.CL_INSTR_ASSET.1_1', 'activity': 'ESTAT.CL_ACTIVITY.1_1', 'expenditure': 'ESTAT.CL_COICOP.1_1', 'unit_measure': 'IMF.CL_UNIT.1_1', 'prices': 'ESTAT.CL_NA_PRICES.1_1', 'transformation': 'ESTAT.CL_TRANSFORMATION.1_1', 'time_period': 'common:TimePeriodType', 'comment_dset': 'COMMENT_DSET', 'ref_period_detail': 'ESTAT.CL_REF_PERIOD_DTL.1_0', 'time_format': 'SDMX.CL_TIME_FORMAT.1_0', 'time_per_collect': 'IMF.CL_TIME_COLLECT.1_0', 'ref_year_price': 'REF_YEAR_PRICE', 'decimals': 'SDMX.CL_DECIMALS.1_0', 'table_identifier': 'ESTAT.CL_NA_TABLEID.1_0', 'title': 'TITLE', 'unit_mult': 'SDMX.CL_UNIT_MULT.1_0', 'last_update': 'LAST_UPDATE', 'compiling_org': 'IMF.CL_ORGANISATION.1_1', 'comment_ts': 'COMMENT_TS', 'obs_value': 'OBS_VALUE', 'obs_status': 'SDMX.CL_OBS_STATUS.1_1', 'conf_status': 'SDMX.CL_CONF_STATUS.1_0', 'comment_obs': 'COMMENT_OBS', 'embargo_date': 'EMBARGO_DATE'}\n",
      "https://registry.sdmx.org/FusionRegistry/ws/rest/codelist/IMF/CL_AREA/1.1/?detail=full&references=none&version=2.0\n",
      "https://registry.sdmx.org/FusionRegistry/ws/rest/codelist/ESTAT/CL_ACTIVITY/1.1/?detail=full&references=none&version=2.0\n",
      "https://registry.sdmx.org/FusionRegistry/ws/rest/codelist/ESTAT/CL_INSTR_ASSET/1.1/?detail=full&references=none&version=2.0\n",
      "https://registry.sdmx.org/FusionRegistry/ws/rest/codelist/ESTAT/CL_NA_PRICES/1.1/?detail=full&references=none&version=2.0\n"
     ]
    }
   ],
   "source": [
    "\n",
    "from SDMXtoV4.SDMXtoV4 import SDMXtoV4\n",
    "\n",
    "inFile = \"NATP.ESA10.2200_SDMX Output_BlueBook_29_Sep_2017.xml\"\n",
    "\n",
    "\n",
    "# Convert from SDMX, return as a dataframe\n",
    "df = SDMXtoV4(inFile, dimensions=[\"activity\",\"instr_asset\",\"prices\"], returnFrame=True)\n",
    "\n",
    "\n",
    "# Change column titles to be cmd friendly\n",
    "changeColTitle = {\n",
    "\"Time_codelist\":\"calendar-years\",\n",
    "\"Geography_codelist\":\"uk-only\",\n",
    "\"ESTAT.CL_ACTIVITY.1_1\":\"business-investment-activity_codelist\",\n",
    "\"ESTAT.CL_INSTR_ASSET.1_1\":\"business-investment-instrument-asset_codelist\",\n",
    "\"instr_asset\":\"instrument-asset_codelist\",\n",
    "\"ESTAT.CL_NA_PRICES.1_1\":\"business-investment-prices_codelist\"\n",
    "    }\n",
    "newCols = []\n",
    "for col in df.columns.values:\n",
    "    \n",
    "    if col in changeColTitle.keys():\n",
    "        col = changeColTitle[col]\n",
    "    newCols.append(col)\n",
    "df.columns = newCols\n",
    "    \n",
    "# Output\n",
    "df.to_csv(\"v4_buisInvest_2200.csv\", index=False)\n",
    "\n"
   ]
  },
  {
   "cell_type": "code",
   "execution_count": null,
   "metadata": {},
   "outputs": [],
   "source": []
  }
 ],
 "metadata": {
  "kernelspec": {
   "display_name": "Python 3",
   "language": "python",
   "name": "python3"
  },
  "language_info": {
   "codemirror_mode": {
    "name": "ipython",
    "version": 3
   },
   "file_extension": ".py",
   "mimetype": "text/x-python",
   "name": "python",
   "nbconvert_exporter": "python",
   "pygments_lexer": "ipython3",
   "version": "3.6.1"
  }
 },
 "nbformat": 4,
 "nbformat_minor": 2
}
